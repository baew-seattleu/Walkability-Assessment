{
 "cells": [
  {
   "cell_type": "markdown",
   "metadata": {},
   "source": [
    "Usage: Modify string in file, to obtain number for weight"
   ]
  },
  {
   "cell_type": "code",
   "execution_count": 1,
   "metadata": {},
   "outputs": [],
   "source": [
    "import csv\n",
    "\n",
    "# Function to clean the individual data items\n",
    "def clean_item(item):\n",
    "    return float(item.split(', ')[1].rstrip(')'))\n",
    "\n",
    "# Load the data from the CSV file\n",
    "def load_and_clean_data(input_filename, output_filename):\n",
    "    cleaned_data = []\n",
    "    with open(input_filename, 'r') as csvfile:\n",
    "        reader = csv.DictReader(csvfile)\n",
    "        for row in reader:\n",
    "            cleaned_row = {key: clean_item(value) if key.startswith('P') else value for key, value in row.items()}\n",
    "            cleaned_data.append(cleaned_row)\n",
    "\n",
    "    # Write the cleaned data to a new CSV file\n",
    "    if cleaned_data:\n",
    "        with open(output_filename, 'w', newline='') as csvfile:\n",
    "            writer = csv.DictWriter(csvfile, fieldnames=cleaned_data[0].keys())\n",
    "            writer.writeheader()\n",
    "            writer.writerows(cleaned_data)\n",
    "\n",
    "# Replace 'input.csv' with the path to your input file and 'output.csv' with your desired output file path\n",
    "load_and_clean_data(r'C:\\Users\\garla\\first-node\\WalkExplorer\\routing\\data\\Final_probability_weights.csv', r'C:\\Users\\garla\\first-node\\WalkExplorer\\routing\\data\\weight_edges.csv')\n"
   ]
  }
 ],
 "metadata": {
  "kernelspec": {
   "display_name": "Python 3 (ipykernel)",
   "language": "python",
   "name": "python3"
  }
 },
 "nbformat": 4,
 "nbformat_minor": 2
}
