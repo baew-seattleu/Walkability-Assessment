{
 "cells": [
  {
   "cell_type": "markdown",
   "metadata": {},
   "source": [
    "Test to add elevation data using OSMNX"
   ]
  },
  {
   "cell_type": "code",
   "execution_count": 1,
   "metadata": {},
   "outputs": [],
   "source": [
    "import osmnx as ox\n",
    "import os\n",
    "import networkx as nx\n",
    "import plotly.graph_objects as go\n",
    "import matplotlib.pyplot as plt\n",
    "import numpy as np\n",
    "import geopandas as gpd\n",
    "import pandas as pd\n",
    "from shapely import wkt\n",
    "import warnings\n",
    "warnings.filterwarnings(\"ignore\")"
   ]
  },
  {
   "cell_type": "code",
   "execution_count": 7,
   "metadata": {},
   "outputs": [
    {
     "data": {
      "text/html": [
       "<div>\n",
       "<style scoped>\n",
       "    .dataframe tbody tr th:only-of-type {\n",
       "        vertical-align: middle;\n",
       "    }\n",
       "\n",
       "    .dataframe tbody tr th {\n",
       "        vertical-align: top;\n",
       "    }\n",
       "\n",
       "    .dataframe thead th {\n",
       "        text-align: right;\n",
       "    }\n",
       "</style>\n",
       "<table border=\"1\" class=\"dataframe\">\n",
       "  <thead>\n",
       "    <tr style=\"text-align: right;\">\n",
       "      <th></th>\n",
       "      <th>u</th>\n",
       "      <th>v</th>\n",
       "      <th>osmid</th>\n",
       "      <th>longitude</th>\n",
       "      <th>latitude</th>\n",
       "    </tr>\n",
       "  </thead>\n",
       "  <tbody>\n",
       "    <tr>\n",
       "      <th>0</th>\n",
       "      <td>29938143</td>\n",
       "      <td>321336630</td>\n",
       "      <td>29214061</td>\n",
       "      <td>-122.3578197</td>\n",
       "      <td>47.6169626</td>\n",
       "    </tr>\n",
       "    <tr>\n",
       "      <th>1</th>\n",
       "      <td>30079057</td>\n",
       "      <td>10653494673</td>\n",
       "      <td>22927964</td>\n",
       "      <td>-122.3291255</td>\n",
       "      <td>47.6196851</td>\n",
       "    </tr>\n",
       "    <tr>\n",
       "      <th>2</th>\n",
       "      <td>30079057</td>\n",
       "      <td>10653494674</td>\n",
       "      <td>169473535</td>\n",
       "      <td>-122.3291255</td>\n",
       "      <td>47.6196851</td>\n",
       "    </tr>\n",
       "    <tr>\n",
       "      <th>3</th>\n",
       "      <td>30079057</td>\n",
       "      <td>10653494670</td>\n",
       "      <td>428237363</td>\n",
       "      <td>-122.3291255</td>\n",
       "      <td>47.6196851</td>\n",
       "    </tr>\n",
       "    <tr>\n",
       "      <th>4</th>\n",
       "      <td>30079057</td>\n",
       "      <td>10653494669</td>\n",
       "      <td>[623957704, 393047812]</td>\n",
       "      <td>-122.3291255</td>\n",
       "      <td>47.6196851</td>\n",
       "    </tr>\n",
       "  </tbody>\n",
       "</table>\n",
       "</div>"
      ],
      "text/plain": [
       "          u            v                   osmid     longitude    latitude\n",
       "0  29938143    321336630                29214061  -122.3578197  47.6169626\n",
       "1  30079057  10653494673                22927964  -122.3291255  47.6196851\n",
       "2  30079057  10653494674               169473535  -122.3291255  47.6196851\n",
       "3  30079057  10653494670               428237363  -122.3291255  47.6196851\n",
       "4  30079057  10653494669  [623957704, 393047812]  -122.3291255  47.6196851"
      ]
     },
     "execution_count": 7,
     "metadata": {},
     "output_type": "execute_result"
    }
   ],
   "source": [
    "# \n",
    "# Load the dataset from a CSV file\n",
    "df = pd.read_csv(r'C:\\Users\\garla\\first-node\\WalkExplorer\\routing\\data\\new_updated_edges_2.csv')  # Replace 'your_file.csv' with the actual file name\n",
    "\n",
    "# Create a new column 'C_final' that takes the value of C1, or if C1 is None, it takes the value of C2, and if C2 is also None, it takes the value of C3\n",
    "df['C_final'] = df['C1'].fillna(df['C2']).fillna(df['C3'])\n",
    "\n",
    "# Split the 'C_final' column into 'longitude' and 'latitude' columns\n",
    "df[['longitude', 'latitude']] = df['C_final'].str.split(expand=True)\n",
    "\n",
    "# Select only the required columns\n",
    "required_columns = ['u', 'v', 'osmid', 'longitude', 'latitude']\n",
    "new_df = df[required_columns]\n",
    "\n",
    "# Save the new dataset to a file\n",
    "new_df.to_csv(r'C:\\Users\\garla\\first-node\\WalkExplorer\\routing\\data\\lat_long_data.csv', index=False)\n",
    "\n",
    "# Display the first few rows of the new dataset\n",
    "new_df.head()"
   ]
  }
 ],
 "metadata": {
  "kernelspec": {
   "display_name": "Python 3 (ipykernel)",
   "language": "python",
   "name": "python3"
  }
 },
 "nbformat": 4,
 "nbformat_minor": 2
}
