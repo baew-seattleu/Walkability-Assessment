{
 "cells": [
  {
   "cell_type": "markdown",
   "metadata": {},
   "source": [
    "<h3>How to get elevation data</h3>\n",
    "<h4>Step 1: Install pandas and rasterio libraries</h4>\n",
    "Run these commands in a separate code cell:\n",
    "\n",
    "pip install pandas\n",
    "\n",
    "pip install rasterio\n",
    "\n",
    "<h4>Step 2: Import libraries</h4>\n",
    "<h4>Step 3: Run get elevation function"
   ]
  },
  {
   "cell_type": "code",
   "execution_count": 1,
   "metadata": {},
   "outputs": [],
   "source": [
    "import pandas as pd\n",
    "import rasterio\n",
    "from rasterio.transform import from_origin"
   ]
  },
  {
   "cell_type": "code",
   "execution_count": 2,
   "metadata": {},
   "outputs": [
    {
     "name": "stdout",
     "output_type": "stream",
     "text": [
      "The elevation is 101 meters.\n"
     ]
    }
   ],
   "source": [
    "def get_elevation_from_srtm(latitude, longitude, srtm_file):\n",
    "    # Open the SRTM file\n",
    "    with rasterio.open(srtm_file) as dataset:\n",
    "        # Calculate the row and column of the pixel that contains the coordinates\n",
    "        row, col = dataset.index(longitude, latitude)\n",
    "        \n",
    "        # Read the elevation value at the specified row and column\n",
    "        elevation = dataset.read(1)[row, col]\n",
    "        \n",
    "    return elevation\n",
    "\n",
    "# Example usage\n",
    "latitude = 47.6100\n",
    "longitude = -122.3177\n",
    "srtm_file = r'C:\\Users\\garla\\first-node\\WalkExplorer\\open_ai\\srtm_12_03.tif'  # Path to your downloaded SRTM data\n",
    "elevation = get_elevation_from_srtm(latitude, longitude, srtm_file)\n",
    "print(f\"The elevation is {elevation} meters.\")"
   ]
  },
  {
   "cell_type": "code",
   "execution_count": 3,
   "metadata": {},
   "outputs": [
    {
     "ename": "KeyboardInterrupt",
     "evalue": "",
     "output_type": "error",
     "traceback": [
      "\u001b[1;31m---------------------------------------------------------------------------\u001b[0m",
      "\u001b[1;31mKeyboardInterrupt\u001b[0m                         Traceback (most recent call last)",
      "Cell \u001b[1;32mIn[3], line 12\u001b[0m\n\u001b[0;32m      9\u001b[0m     elevationList\u001b[38;5;241m.\u001b[39mappend(elevation)\n\u001b[0;32m     10\u001b[0m     \u001b[38;5;66;03m#print(f\"The elevation is {elevation} at lat: {lat} and lon: {lon}\")\u001b[39;00m\n\u001b[1;32m---> 12\u001b[0m df\u001b[38;5;241m.\u001b[39mapply(findElevation, axis\u001b[38;5;241m=\u001b[39m\u001b[38;5;241m1\u001b[39m)\n\u001b[0;32m     13\u001b[0m df[\u001b[38;5;124m\"\u001b[39m\u001b[38;5;124melevation\u001b[39m\u001b[38;5;124m\"\u001b[39m] \u001b[38;5;241m=\u001b[39m elevationList\n\u001b[0;32m     14\u001b[0m \u001b[38;5;66;03m# Replace any -32768 values (missing) in the elevation column with 0\u001b[39;00m\n",
      "File \u001b[1;32m~\\anaconda3\\Lib\\site-packages\\pandas\\core\\frame.py:10034\u001b[0m, in \u001b[0;36mDataFrame.apply\u001b[1;34m(self, func, axis, raw, result_type, args, by_row, **kwargs)\u001b[0m\n\u001b[0;32m  10022\u001b[0m \u001b[38;5;28;01mfrom\u001b[39;00m \u001b[38;5;21;01mpandas\u001b[39;00m\u001b[38;5;21;01m.\u001b[39;00m\u001b[38;5;21;01mcore\u001b[39;00m\u001b[38;5;21;01m.\u001b[39;00m\u001b[38;5;21;01mapply\u001b[39;00m \u001b[38;5;28;01mimport\u001b[39;00m frame_apply\n\u001b[0;32m  10024\u001b[0m op \u001b[38;5;241m=\u001b[39m frame_apply(\n\u001b[0;32m  10025\u001b[0m     \u001b[38;5;28mself\u001b[39m,\n\u001b[0;32m  10026\u001b[0m     func\u001b[38;5;241m=\u001b[39mfunc,\n\u001b[1;32m   (...)\u001b[0m\n\u001b[0;32m  10032\u001b[0m     kwargs\u001b[38;5;241m=\u001b[39mkwargs,\n\u001b[0;32m  10033\u001b[0m )\n\u001b[1;32m> 10034\u001b[0m \u001b[38;5;28;01mreturn\u001b[39;00m op\u001b[38;5;241m.\u001b[39mapply()\u001b[38;5;241m.\u001b[39m__finalize__(\u001b[38;5;28mself\u001b[39m, method\u001b[38;5;241m=\u001b[39m\u001b[38;5;124m\"\u001b[39m\u001b[38;5;124mapply\u001b[39m\u001b[38;5;124m\"\u001b[39m)\n",
      "File \u001b[1;32m~\\anaconda3\\Lib\\site-packages\\pandas\\core\\apply.py:837\u001b[0m, in \u001b[0;36mFrameApply.apply\u001b[1;34m(self)\u001b[0m\n\u001b[0;32m    834\u001b[0m \u001b[38;5;28;01melif\u001b[39;00m \u001b[38;5;28mself\u001b[39m\u001b[38;5;241m.\u001b[39mraw:\n\u001b[0;32m    835\u001b[0m     \u001b[38;5;28;01mreturn\u001b[39;00m \u001b[38;5;28mself\u001b[39m\u001b[38;5;241m.\u001b[39mapply_raw()\n\u001b[1;32m--> 837\u001b[0m \u001b[38;5;28;01mreturn\u001b[39;00m \u001b[38;5;28mself\u001b[39m\u001b[38;5;241m.\u001b[39mapply_standard()\n",
      "File \u001b[1;32m~\\anaconda3\\Lib\\site-packages\\pandas\\core\\apply.py:965\u001b[0m, in \u001b[0;36mFrameApply.apply_standard\u001b[1;34m(self)\u001b[0m\n\u001b[0;32m    964\u001b[0m \u001b[38;5;28;01mdef\u001b[39;00m \u001b[38;5;21mapply_standard\u001b[39m(\u001b[38;5;28mself\u001b[39m):\n\u001b[1;32m--> 965\u001b[0m     results, res_index \u001b[38;5;241m=\u001b[39m \u001b[38;5;28mself\u001b[39m\u001b[38;5;241m.\u001b[39mapply_series_generator()\n\u001b[0;32m    967\u001b[0m     \u001b[38;5;66;03m# wrap results\u001b[39;00m\n\u001b[0;32m    968\u001b[0m     \u001b[38;5;28;01mreturn\u001b[39;00m \u001b[38;5;28mself\u001b[39m\u001b[38;5;241m.\u001b[39mwrap_results(results, res_index)\n",
      "File \u001b[1;32m~\\anaconda3\\Lib\\site-packages\\pandas\\core\\apply.py:981\u001b[0m, in \u001b[0;36mFrameApply.apply_series_generator\u001b[1;34m(self)\u001b[0m\n\u001b[0;32m    978\u001b[0m \u001b[38;5;28;01mwith\u001b[39;00m option_context(\u001b[38;5;124m\"\u001b[39m\u001b[38;5;124mmode.chained_assignment\u001b[39m\u001b[38;5;124m\"\u001b[39m, \u001b[38;5;28;01mNone\u001b[39;00m):\n\u001b[0;32m    979\u001b[0m     \u001b[38;5;28;01mfor\u001b[39;00m i, v \u001b[38;5;129;01min\u001b[39;00m \u001b[38;5;28menumerate\u001b[39m(series_gen):\n\u001b[0;32m    980\u001b[0m         \u001b[38;5;66;03m# ignore SettingWithCopy here in case the user mutates\u001b[39;00m\n\u001b[1;32m--> 981\u001b[0m         results[i] \u001b[38;5;241m=\u001b[39m \u001b[38;5;28mself\u001b[39m\u001b[38;5;241m.\u001b[39mfunc(v, \u001b[38;5;241m*\u001b[39m\u001b[38;5;28mself\u001b[39m\u001b[38;5;241m.\u001b[39margs, \u001b[38;5;241m*\u001b[39m\u001b[38;5;241m*\u001b[39m\u001b[38;5;28mself\u001b[39m\u001b[38;5;241m.\u001b[39mkwargs)\n\u001b[0;32m    982\u001b[0m         \u001b[38;5;28;01mif\u001b[39;00m \u001b[38;5;28misinstance\u001b[39m(results[i], ABCSeries):\n\u001b[0;32m    983\u001b[0m             \u001b[38;5;66;03m# If we have a view on v, we need to make a copy because\u001b[39;00m\n\u001b[0;32m    984\u001b[0m             \u001b[38;5;66;03m#  series_generator will swap out the underlying data\u001b[39;00m\n\u001b[0;32m    985\u001b[0m             results[i] \u001b[38;5;241m=\u001b[39m results[i]\u001b[38;5;241m.\u001b[39mcopy(deep\u001b[38;5;241m=\u001b[39m\u001b[38;5;28;01mFalse\u001b[39;00m)\n",
      "Cell \u001b[1;32mIn[3], line 8\u001b[0m, in \u001b[0;36mfindElevation\u001b[1;34m(row)\u001b[0m\n\u001b[0;32m      6\u001b[0m lat \u001b[38;5;241m=\u001b[39m row[\u001b[38;5;124m\"\u001b[39m\u001b[38;5;124my\u001b[39m\u001b[38;5;124m\"\u001b[39m]\n\u001b[0;32m      7\u001b[0m lon \u001b[38;5;241m=\u001b[39m row[\u001b[38;5;124m\"\u001b[39m\u001b[38;5;124mx\u001b[39m\u001b[38;5;124m\"\u001b[39m]\n\u001b[1;32m----> 8\u001b[0m elevation \u001b[38;5;241m=\u001b[39m get_elevation_from_srtm(lat, lon, srtm_file)\n\u001b[0;32m      9\u001b[0m elevationList\u001b[38;5;241m.\u001b[39mappend(elevation)\n",
      "Cell \u001b[1;32mIn[2], line 8\u001b[0m, in \u001b[0;36mget_elevation_from_srtm\u001b[1;34m(latitude, longitude, srtm_file)\u001b[0m\n\u001b[0;32m      5\u001b[0m     row, col \u001b[38;5;241m=\u001b[39m dataset\u001b[38;5;241m.\u001b[39mindex(longitude, latitude)\n\u001b[0;32m      7\u001b[0m     \u001b[38;5;66;03m# Read the elevation value at the specified row and column\u001b[39;00m\n\u001b[1;32m----> 8\u001b[0m     elevation \u001b[38;5;241m=\u001b[39m dataset\u001b[38;5;241m.\u001b[39mread(\u001b[38;5;241m1\u001b[39m)[row, col]\n\u001b[0;32m     10\u001b[0m \u001b[38;5;28;01mreturn\u001b[39;00m elevation\n",
      "\u001b[1;31mKeyboardInterrupt\u001b[0m: "
     ]
    }
   ],
   "source": [
    "df = pd.read_csv(r\"C:\\Users\\garla\\first-node\\WalkExplorer\\routing\\data\\nodes_elevation.csv\")\n",
    "\n",
    "elevationList = []\n",
    "srtm_file = r'C:\\Users\\garla\\first-node\\WalkExplorer\\open_ai\\srtm_12_03.tif' \n",
    "def findElevation(row):\n",
    "    lat = row[\"y\"]\n",
    "    lon = row[\"x\"]\n",
    "    elevation = get_elevation_from_srtm(lat, lon, srtm_file)\n",
    "    elevationList.append(elevation)\n",
    "    #print(f\"The elevation is {elevation} at lat: {lat} and lon: {lon}\")\n",
    "\n",
    "df.apply(findElevation, axis=1)\n",
    "df[\"elevation\"] = elevationList\n",
    "# Replace any -32768 values (missing) in the elevation column with 0\n",
    "df[\"elevation\"].replace(-32768, 0, inplace=True)\n",
    "\n",
    "df.to_csv(r\"C:\\Users\\garla\\first-node\\WalkExplorer\\routing\\data\\nodes_elevation.csv\", index=False)\n",
    "\n",
    "print(\"Done!\")"
   ]
  },
  {
   "cell_type": "markdown",
   "metadata": {},
   "source": [
    "<h3>Now to graph the elevation data</h3>"
   ]
  },
  {
   "cell_type": "code",
   "execution_count": null,
   "metadata": {},
   "outputs": [],
   "source": [
    "import pandas as pd\n",
    "import plotly_express as px\n",
    "#import plotly.io as pio\n",
    "#import plotly.graph_objects as go\n",
    "#import plotly.figure_factory as ff\n",
    "elevation_data = pd.read_csv(\"data_with_elevation.csv\")\n",
    "elevation_data = elevation_data[elevation_data[\"Elevation\"]!=-32768] #filter out images with no elevation data\n",
    "\n",
    "#plotting the elevation data\n",
    "#coloring\n",
    "color_list=[\"green\", \"yellow\", \"orange\", \"coral\", \"red\"]\n",
    "\n",
    "#zoom\n",
    "zoom_level=13\n",
    "\n",
    "#center of map\n",
    "center_lat = 47.6099\n",
    "center_long = -122.3438\n",
    "center_point = {\n",
    "    \"lat\": center_lat,\n",
    "    \"lon\": center_long\n",
    "}\n",
    "\n",
    "#size of figure\n",
    "w=880\n",
    "h=700\n",
    "\n",
    "#map title\n",
    "map_title=\"Elevation in Seattle Downtown Area\"\n",
    "\n",
    "map_style=\"open-street-map\"\n",
    "fig = px.scatter_mapbox(elevation_data, lat=\"Latitude\", lon=\"Longitude\", color=\"Elevation\", \\\n",
    "                        hover_name=\"Elevation\", color_continuous_scale=color_list, \\\n",
    "                        zoom=zoom_level, center=center_point, mapbox_style=map_style, \\\n",
    "                        width=w, height=h, title=map_title)\n",
    "\n",
    "fig.show()"
   ]
  }
 ],
 "metadata": {
  "kernelspec": {
   "display_name": "Python 3 (ipykernel)",
   "language": "python",
   "name": "python3"
  },
  "language_info": {
   "codemirror_mode": {
    "name": "ipython",
    "version": 3
   },
   "file_extension": ".py",
   "mimetype": "text/x-python",
   "name": "python",
   "nbconvert_exporter": "python",
   "pygments_lexer": "ipython3",
   "version": "3.11.7"
  }
 },
 "nbformat": 4,
 "nbformat_minor": 2
}
