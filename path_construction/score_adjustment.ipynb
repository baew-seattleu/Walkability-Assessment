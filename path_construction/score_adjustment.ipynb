{
 "cells": [
  {
   "cell_type": "markdown",
   "metadata": {},
   "source": [
    "Usage: Transform the scale of 'score' attribute"
   ]
  },
  {
   "cell_type": "code",
   "execution_count": 1,
   "metadata": {},
   "outputs": [
    {
     "data": {
      "text/plain": [
       "(5, 119)"
      ]
     },
     "execution_count": 1,
     "metadata": {},
     "output_type": "execute_result"
    }
   ],
   "source": [
    "import pandas as pd\n",
    "\n",
    "# Sample data creation, replace this with your actual DataFrame\n",
    "data = pd.read_csv(r'C:\\Users\\garla\\first-node\\WalkExplorer\\routing\\data\\adjusted_edges.csv')\n",
    "df = pd.DataFrame(data)\n",
    "\n",
    "df.shape"
   ]
  },
  {
   "cell_type": "code",
   "execution_count": 2,
   "metadata": {},
   "outputs": [
    {
     "data": {
      "text/plain": [
       "(5, 119)"
      ]
     },
     "execution_count": 2,
     "metadata": {},
     "output_type": "execute_result"
    }
   ],
   "source": [
    "# Find the minimum value in the 'score_image' column excluding NaN\n",
    "min_value = df['score'].min()\n",
    "\n",
    "# Replace missing values with the minimum value\n",
    "df['score'] = df['score'].fillna(value=min_value)\n",
    "df.shape"
   ]
  },
  {
   "cell_type": "code",
   "execution_count": 3,
   "metadata": {},
   "outputs": [
    {
     "name": "stdout",
     "output_type": "stream",
     "text": [
      "2.220226165\n"
     ]
    }
   ],
   "source": [
    "# Find the minimum value in the 'score_image' column\n",
    "min_value = df['score'].min()\n",
    "\n",
    "# Display the minimum value\n",
    "print(min_value)"
   ]
  },
  {
   "cell_type": "code",
   "execution_count": 4,
   "metadata": {},
   "outputs": [
    {
     "name": "stdout",
     "output_type": "stream",
     "text": [
      "2.979294965\n"
     ]
    }
   ],
   "source": [
    "# Find the minimum value in the 'score_image' column\n",
    "max_value = df['score'].max()\n",
    "\n",
    "# Display the minimum value\n",
    "print(max_value)"
   ]
  },
  {
   "cell_type": "code",
   "execution_count": 5,
   "metadata": {},
   "outputs": [
    {
     "name": "stdout",
     "output_type": "stream",
     "text": [
      "0    2.979295\n",
      "1    2.421358\n",
      "2    2.220226\n",
      "3    2.467187\n",
      "4    2.220226\n",
      "Name: score, dtype: float64\n"
     ]
    }
   ],
   "source": [
    "print(df['score'])"
   ]
  },
  {
   "cell_type": "code",
   "execution_count": 6,
   "metadata": {},
   "outputs": [],
   "source": [
    "# Step 1: Find original min and max\n",
    "original_min = df['score'].min()\n",
    "original_max = df['score'].max()\n",
    "\n",
    "# Step 2: Invert the distribution\n",
    "df['adjusted_score'] = original_max - df['score']\n",
    "\n",
    "# Step 3: Shift distribution up by 10\n",
    "df['adjusted_score'] += 10\n",
    "\n",
    "# Round the adjusted scores to 9 decimal places\n",
    "df['adjusted_score'] = df['adjusted_score'].round(9)"
   ]
  },
  {
   "cell_type": "code",
   "execution_count": 7,
   "metadata": {},
   "outputs": [
    {
     "name": "stdout",
     "output_type": "stream",
     "text": [
      "2.220226165\n",
      "2.979294965\n",
      "10.0\n",
      "10.7590688\n"
     ]
    }
   ],
   "source": [
    "print(df['score'].min())\n",
    "print(df['score'].max())\n",
    "\n",
    "print(df['adjusted_score'].min())\n",
    "print(df['adjusted_score'].max())"
   ]
  },
  {
   "cell_type": "code",
   "execution_count": 8,
   "metadata": {},
   "outputs": [],
   "source": [
    "# Export the DataFrame to a CSV file\n",
    "df.to_csv(r'C:\\Users\\garla\\first-node\\WalkExplorer\\routing\\data\\adjusted_edges.csv', index=False)  # Set index=False if you don't want to include the index in the CSV"
   ]
  }
 ],
 "metadata": {
  "kernelspec": {
   "display_name": "Python 3 (ipykernel)",
   "language": "python",
   "name": "python3"
  }
 },
 "nbformat": 4,
 "nbformat_minor": 2
}
